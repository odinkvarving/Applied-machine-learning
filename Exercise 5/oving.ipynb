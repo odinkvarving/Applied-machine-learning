{
 "cells": [
  {
   "cell_type": "code",
   "execution_count": 35,
   "source": [
    "import pandas as pd\r\n",
    "df = pd.read_csv(\"data/agaricus-lepiota.data\")\r\n",
    "\r\n",
    "df.sort_values(by=['edibility', 'habitat'])[['edibility', 'habitat']]\r\n",
    "\r\n",
    "a = df.groupby(['habitat', 'edibility']).size()\r\n",
    "a = a.unstack()\r\n",
    "a.plot.bar()\r\n"
   ],
   "outputs": [
    {
     "output_type": "execute_result",
     "data": {
      "text/plain": [
       "(8124, 23)"
      ]
     },
     "metadata": {},
     "execution_count": 35
    },
    {
     "output_type": "display_data",
     "data": {
      "image/png": "[encoded data removed]",
      "text/plain": [
       "<Figure size 432x288 with 1 Axes>"
      ]
     },
     "metadata": {
      "needs_background": "light"
     }
    }
   ],
   "metadata": {}
  },
  {
   "cell_type": "code",
   "execution_count": 30,
   "source": [
    "b = df.groupby(['cap-color', 'edibility']).size()\r\n",
    "b = b.unstack()\r\n",
    "b.plot.bar()"
   ],
   "outputs": [
    {
     "output_type": "execute_result",
     "data": {
      "text/plain": [
       "<AxesSubplot:xlabel='cap-color'>"
      ]
     },
     "metadata": {},
     "execution_count": 30
    },
    {
     "output_type": "display_data",
     "data": {
      "image/png": "[encoded data removed]",
      "text/plain": [
       "<Figure size 432x288 with 1 Axes>"
      ]
     },
     "metadata": {
      "needs_background": "light"
     }
    }
   ],
   "metadata": {}
  },
  {
   "cell_type": "code",
   "execution_count": 31,
   "source": [
    "c = df.groupby(['odor', 'edibility']).size()\r\n",
    "c = c.unstack()\r\n",
    "c.plot.bar()"
   ],
   "outputs": [
    {
     "output_type": "execute_result",
     "data": {
      "text/plain": [
       "<AxesSubplot:xlabel='odor'>"
      ]
     },
     "metadata": {},
     "execution_count": 31
    },
    {
     "output_type": "display_data",
     "data": {
      "image/png": "[encoded data removed]",
      "text/plain": [
       "<Figure size 432x288 with 1 Axes>"
      ]
     },
     "metadata": {
      "needs_background": "light"
     }
    }
   ],
   "metadata": {}
  },
  {
   "cell_type": "code",
   "execution_count": 54,
   "source": [
    "from pandas.plotting import scatter_matrix\r\n",
    "df_dc = pd.get_dummies(df, columns=['odor', 'edibility'])\r\n",
    "scatter_matrix(df_dc, figsize=(8,8))"
   ],
   "outputs": [
    {
     "output_type": "execute_result",
     "data": {
      "text/plain": [
       "array([[<AxesSubplot:xlabel='odor_a', ylabel='odor_a'>,\n",
       "        <AxesSubplot:xlabel='odor_c', ylabel='odor_a'>,\n",
       "        <AxesSubplot:xlabel='odor_f', ylabel='odor_a'>,\n",
       "        <AxesSubplot:xlabel='odor_l', ylabel='odor_a'>,\n",
       "        <AxesSubplot:xlabel='odor_m', ylabel='odor_a'>,\n",
       "        <AxesSubplot:xlabel='odor_n', ylabel='odor_a'>,\n",
       "        <AxesSubplot:xlabel='odor_p', ylabel='odor_a'>,\n",
       "        <AxesSubplot:xlabel='odor_s', ylabel='odor_a'>,\n",
       "        <AxesSubplot:xlabel='odor_y', ylabel='odor_a'>,\n",
       "        <AxesSubplot:xlabel='edibility_e', ylabel='odor_a'>,\n",
       "        <AxesSubplot:xlabel='edibility_p', ylabel='odor_a'>],\n",
       "       [<AxesSubplot:xlabel='odor_a', ylabel='odor_c'>,\n",
       "        <AxesSubplot:xlabel='odor_c', ylabel='odor_c'>,\n",
       "        <AxesSubplot:xlabel='odor_f', ylabel='odor_c'>,\n",
       "        <AxesSubplot:xlabel='odor_l', ylabel='odor_c'>,\n",
       "        <AxesSubplot:xlabel='odor_m', ylabel='odor_c'>,\n",
       "        <AxesSubplot:xlabel='odor_n', ylabel='odor_c'>,\n",
       "        <AxesSubplot:xlabel='odor_p', ylabel='odor_c'>,\n",
       "        <AxesSubplot:xlabel='odor_s', ylabel='odor_c'>,\n",
       "        <AxesSubplot:xlabel='odor_y', ylabel='odor_c'>,\n",
       "        <AxesSubplot:xlabel='edibility_e', ylabel='odor_c'>,\n",
       "        <AxesSubplot:xlabel='edibility_p', ylabel='odor_c'>],\n",
       "       [<AxesSubplot:xlabel='odor_a', ylabel='odor_f'>,\n",
       "        <AxesSubplot:xlabel='odor_c', ylabel='odor_f'>,\n",
       "        <AxesSubplot:xlabel='odor_f', ylabel='odor_f'>,\n",
       "        <AxesSubplot:xlabel='odor_l', ylabel='odor_f'>,\n",
       "        <AxesSubplot:xlabel='odor_m', ylabel='odor_f'>,\n",
       "        <AxesSubplot:xlabel='odor_n', ylabel='odor_f'>,\n",
       "        <AxesSubplot:xlabel='odor_p', ylabel='odor_f'>,\n",
       "        <AxesSubplot:xlabel='odor_s', ylabel='odor_f'>,\n",
       "        <AxesSubplot:xlabel='odor_y', ylabel='odor_f'>,\n",
       "        <AxesSubplot:xlabel='edibility_e', ylabel='odor_f'>,\n",
       "        <AxesSubplot:xlabel='edibility_p', ylabel='odor_f'>],\n",
       "       [<AxesSubplot:xlabel='odor_a', ylabel='odor_l'>,\n",
       "        <AxesSubplot:xlabel='odor_c', ylabel='odor_l'>,\n",
       "        <AxesSubplot:xlabel='odor_f', ylabel='odor_l'>,\n",
       "        <AxesSubplot:xlabel='odor_l', ylabel='odor_l'>,\n",
       "        <AxesSubplot:xlabel='odor_m', ylabel='odor_l'>,\n",
       "        <AxesSubplot:xlabel='odor_n', ylabel='odor_l'>,\n",
       "        <AxesSubplot:xlabel='odor_p', ylabel='odor_l'>,\n",
       "        <AxesSubplot:xlabel='odor_s', ylabel='odor_l'>,\n",
       "        <AxesSubplot:xlabel='odor_y', ylabel='odor_l'>,\n",
       "        <AxesSubplot:xlabel='edibility_e', ylabel='odor_l'>,\n",
       "        <AxesSubplot:xlabel='edibility_p', ylabel='odor_l'>],\n",
       "       [<AxesSubplot:xlabel='odor_a', ylabel='odor_m'>,\n",
       "        <AxesSubplot:xlabel='odor_c', ylabel='odor_m'>,\n",
       "        <AxesSubplot:xlabel='odor_f', ylabel='odor_m'>,\n",
       "        <AxesSubplot:xlabel='odor_l', ylabel='odor_m'>,\n",
       "        <AxesSubplot:xlabel='odor_m', ylabel='odor_m'>,\n",
       "        <AxesSubplot:xlabel='odor_n', ylabel='odor_m'>,\n",
       "        <AxesSubplot:xlabel='odor_p', ylabel='odor_m'>,\n",
       "        <AxesSubplot:xlabel='odor_s', ylabel='odor_m'>,\n",
       "        <AxesSubplot:xlabel='odor_y', ylabel='odor_m'>,\n",
       "        <AxesSubplot:xlabel='edibility_e', ylabel='odor_m'>,\n",
       "        <AxesSubplot:xlabel='edibility_p', ylabel='odor_m'>],\n",
       "       [<AxesSubplot:xlabel='odor_a', ylabel='odor_n'>,\n",
       "        <AxesSubplot:xlabel='odor_c', ylabel='odor_n'>,\n",
       "        <AxesSubplot:xlabel='odor_f', ylabel='odor_n'>,\n",
       "        <AxesSubplot:xlabel='odor_l', ylabel='odor_n'>,\n",
       "        <AxesSubplot:xlabel='odor_m', ylabel='odor_n'>,\n",
       "        <AxesSubplot:xlabel='odor_n', ylabel='odor_n'>,\n",
       "        <AxesSubplot:xlabel='odor_p', ylabel='odor_n'>,\n",
       "        <AxesSubplot:xlabel='odor_s', ylabel='odor_n'>,\n",
       "        <AxesSubplot:xlabel='odor_y', ylabel='odor_n'>,\n",
       "        <AxesSubplot:xlabel='edibility_e', ylabel='odor_n'>,\n",
       "        <AxesSubplot:xlabel='edibility_p', ylabel='odor_n'>],\n",
       "       [<AxesSubplot:xlabel='odor_a', ylabel='odor_p'>,\n",
       "        <AxesSubplot:xlabel='odor_c', ylabel='odor_p'>,\n",
       "        <AxesSubplot:xlabel='odor_f', ylabel='odor_p'>,\n",
       "        <AxesSubplot:xlabel='odor_l', ylabel='odor_p'>,\n",
       "        <AxesSubplot:xlabel='odor_m', ylabel='odor_p'>,\n",
       "        <AxesSubplot:xlabel='odor_n', ylabel='odor_p'>,\n",
       "        <AxesSubplot:xlabel='odor_p', ylabel='odor_p'>,\n",
       "        <AxesSubplot:xlabel='odor_s', ylabel='odor_p'>,\n",
       "        <AxesSubplot:xlabel='odor_y', ylabel='odor_p'>,\n",
       "        <AxesSubplot:xlabel='edibility_e', ylabel='odor_p'>,\n",
       "        <AxesSubplot:xlabel='edibility_p', ylabel='odor_p'>],\n",
       "       [<AxesSubplot:xlabel='odor_a', ylabel='odor_s'>,\n",
       "        <AxesSubplot:xlabel='odor_c', ylabel='odor_s'>,\n",
       "        <AxesSubplot:xlabel='odor_f', ylabel='odor_s'>,\n",
       "        <AxesSubplot:xlabel='odor_l', ylabel='odor_s'>,\n",
       "        <AxesSubplot:xlabel='odor_m', ylabel='odor_s'>,\n",
       "        <AxesSubplot:xlabel='odor_n', ylabel='odor_s'>,\n",
       "        <AxesSubplot:xlabel='odor_p', ylabel='odor_s'>,\n",
       "        <AxesSubplot:xlabel='odor_s', ylabel='odor_s'>,\n",
       "        <AxesSubplot:xlabel='odor_y', ylabel='odor_s'>,\n",
       "        <AxesSubplot:xlabel='edibility_e', ylabel='odor_s'>,\n",
       "        <AxesSubplot:xlabel='edibility_p', ylabel='odor_s'>],\n",
       "       [<AxesSubplot:xlabel='odor_a', ylabel='odor_y'>,\n",
       "        <AxesSubplot:xlabel='odor_c', ylabel='odor_y'>,\n",
       "        <AxesSubplot:xlabel='odor_f', ylabel='odor_y'>,\n",
       "        <AxesSubplot:xlabel='odor_l', ylabel='odor_y'>,\n",
       "        <AxesSubplot:xlabel='odor_m', ylabel='odor_y'>,\n",
       "        <AxesSubplot:xlabel='odor_n', ylabel='odor_y'>,\n",
       "        <AxesSubplot:xlabel='odor_p', ylabel='odor_y'>,\n",
       "        <AxesSubplot:xlabel='odor_s', ylabel='odor_y'>,\n",
       "        <AxesSubplot:xlabel='odor_y', ylabel='odor_y'>,\n",
       "        <AxesSubplot:xlabel='edibility_e', ylabel='odor_y'>,\n",
       "        <AxesSubplot:xlabel='edibility_p', ylabel='odor_y'>],\n",
       "       [<AxesSubplot:xlabel='odor_a', ylabel='edibility_e'>,\n",
       "        <AxesSubplot:xlabel='odor_c', ylabel='edibility_e'>,\n",
       "        <AxesSubplot:xlabel='odor_f', ylabel='edibility_e'>,\n",
       "        <AxesSubplot:xlabel='odor_l', ylabel='edibility_e'>,\n",
       "        <AxesSubplot:xlabel='odor_m', ylabel='edibility_e'>,\n",
       "        <AxesSubplot:xlabel='odor_n', ylabel='edibility_e'>,\n",
       "        <AxesSubplot:xlabel='odor_p', ylabel='edibility_e'>,\n",
       "        <AxesSubplot:xlabel='odor_s', ylabel='edibility_e'>,\n",
       "        <AxesSubplot:xlabel='odor_y', ylabel='edibility_e'>,\n",
       "        <AxesSubplot:xlabel='edibility_e', ylabel='edibility_e'>,\n",
       "        <AxesSubplot:xlabel='edibility_p', ylabel='edibility_e'>],\n",
       "       [<AxesSubplot:xlabel='odor_a', ylabel='edibility_p'>,\n",
       "        <AxesSubplot:xlabel='odor_c', ylabel='edibility_p'>,\n",
       "        <AxesSubplot:xlabel='odor_f', ylabel='edibility_p'>,\n",
       "        <AxesSubplot:xlabel='odor_l', ylabel='edibility_p'>,\n",
       "        <AxesSubplot:xlabel='odor_m', ylabel='edibility_p'>,\n",
       "        <AxesSubplot:xlabel='odor_n', ylabel='edibility_p'>,\n",
       "        <AxesSubplot:xlabel='odor_p', ylabel='edibility_p'>,\n",
       "        <AxesSubplot:xlabel='odor_s', ylabel='edibility_p'>,\n",
       "        <AxesSubplot:xlabel='odor_y', ylabel='edibility_p'>,\n",
       "        <AxesSubplot:xlabel='edibility_e', ylabel='edibility_p'>,\n",
       "        <AxesSubplot:xlabel='edibility_p', ylabel='edibility_p'>]],\n",
       "      dtype=object)"
      ]
     },
     "metadata": {},
     "execution_count": 54
    },
    {
     "output_type": "display_data",
     "data": {
      "image/png": "[encoded data removed]",
      "text/plain": [
       "<Figure size 576x576 with 121 Axes>"
      ]
     },
     "metadata": {
      "needs_background": "light"
     }
    }
   ],
   "metadata": {}
  }
 ],
 "metadata": {
  "orig_nbformat": 4,
  "language_info": {
   "name": "python",
   "version": "3.9.7",
   "mimetype": "text/x-python",
   "codemirror_mode": {
    "name": "ipython",
    "version": 3
   },
   "pygments_lexer": "ipython3",
   "nbconvert_exporter": "python",
   "file_extension": ".py"
  },
  "kernelspec": {
   "name": "python3",
   "display_name": "Python 3.9.7 64-bit"
  },
  "interpreter": {
   "hash": "4d1658ec84c519f471af1cfe492a6fefc25fff55f52095839686e362fa0f6a4f"
  }
 },
 "nbformat": 4,
 "nbformat_minor": 2
}