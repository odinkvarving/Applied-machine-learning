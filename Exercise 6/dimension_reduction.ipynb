{
 "cells": [
  {
   "cell_type": "markdown",
   "metadata": {},
   "source": [
    "# Exercise 6  - Odin Kvarving\n",
    "\n",
    "# Tasks\n",
    "\n",
    "* Using the UCI mushroom dataset from the last exercise, perform a feature selection using a classifier evaluator. Which features are most discriminitave?\n",
    "\n",
    "* Use principal components analysis to construct a reduced space. Which combination of features explain the most variance in the dataset?\n",
    "\n",
    "* Do you see any overlap between the PCA features and those obtained from feature selection?"
   ]
  },
  {
   "cell_type": "code",
   "execution_count": 4,
   "metadata": {},
   "outputs": [
    {
     "name": "stderr",
     "output_type": "stream",
     "text": [
      "[Parallel(n_jobs=1)]: Using backend SequentialBackend with 1 concurrent workers.\n",
      "[Parallel(n_jobs=1)]: Done   1 out of   1 | elapsed:    0.4s remaining:    0.0s\n",
      "[Parallel(n_jobs=1)]: Done 117 out of 117 | elapsed:  1.1min finished\n",
      "\n",
      "[2021-10-08 01:58:00] Features: 1/10 -- score: 0.8867552929591335[Parallel(n_jobs=1)]: Using backend SequentialBackend with 1 concurrent workers.\n",
      "[Parallel(n_jobs=1)]: Done   1 out of   1 | elapsed:    0.3s remaining:    0.0s\n",
      "[Parallel(n_jobs=1)]: Done 116 out of 116 | elapsed:   48.6s finished\n",
      "\n",
      "[2021-10-08 01:58:49] Features: 2/10 -- score: 0.9463318562284588[Parallel(n_jobs=1)]: Using backend SequentialBackend with 1 concurrent workers.\n",
      "[Parallel(n_jobs=1)]: Done   1 out of   1 | elapsed:    0.3s remaining:    0.0s\n",
      "[Parallel(n_jobs=1)]: Done 115 out of 115 | elapsed:   50.8s finished\n",
      "\n",
      "[2021-10-08 01:59:40] Features: 3/10 -- score: 0.9763663220088626[Parallel(n_jobs=1)]: Using backend SequentialBackend with 1 concurrent workers.\n",
      "[Parallel(n_jobs=1)]: Done   1 out of   1 | elapsed:    0.3s remaining:    0.0s\n",
      "[Parallel(n_jobs=1)]: Done 114 out of 114 | elapsed:   51.2s finished\n",
      "\n",
      "[2021-10-08 02:00:31] Features: 4/10 -- score: 0.9852289512555391[Parallel(n_jobs=1)]: Using backend SequentialBackend with 1 concurrent workers.\n",
      "[Parallel(n_jobs=1)]: Done   1 out of   1 | elapsed:    0.4s remaining:    0.0s\n",
      "[Parallel(n_jobs=1)]: Done 113 out of 113 | elapsed:  1.0min finished\n",
      "\n",
      "[2021-10-08 02:01:33] Features: 5/10 -- score: 0.9911373707533235[Parallel(n_jobs=1)]: Using backend SequentialBackend with 1 concurrent workers.\n",
      "[Parallel(n_jobs=1)]: Done   1 out of   1 | elapsed:    0.5s remaining:    0.0s\n",
      "[Parallel(n_jobs=1)]: Done 112 out of 112 | elapsed:  1.2min finished\n",
      "\n",
      "[2021-10-08 02:02:46] Features: 6/10 -- score: 0.9970457902511078[Parallel(n_jobs=1)]: Using backend SequentialBackend with 1 concurrent workers.\n",
      "[Parallel(n_jobs=1)]: Done   1 out of   1 | elapsed:    0.6s remaining:    0.0s\n",
      "[Parallel(n_jobs=1)]: Done 111 out of 111 | elapsed:  1.4min finished\n",
      "\n",
      "[2021-10-08 02:04:08] Features: 7/10 -- score: 0.999015263417036[Parallel(n_jobs=1)]: Using backend SequentialBackend with 1 concurrent workers.\n",
      "[Parallel(n_jobs=1)]: Done   1 out of   1 | elapsed:    0.4s remaining:    0.0s\n",
      "[Parallel(n_jobs=1)]: Done 110 out of 110 | elapsed:  1.1min finished\n",
      "\n",
      "[2021-10-08 02:05:17] Features: 8/10 -- score: 1.0[Parallel(n_jobs=1)]: Using backend SequentialBackend with 1 concurrent workers.\n",
      "[Parallel(n_jobs=1)]: Done   1 out of   1 | elapsed:    0.4s remaining:    0.0s\n",
      "[Parallel(n_jobs=1)]: Done 109 out of 109 | elapsed:   60.0s finished\n",
      "\n",
      "[2021-10-08 02:06:17] Features: 9/10 -- score: 1.0[Parallel(n_jobs=1)]: Using backend SequentialBackend with 1 concurrent workers.\n",
      "[Parallel(n_jobs=1)]: Done   1 out of   1 | elapsed:    0.4s remaining:    0.0s\n",
      "[Parallel(n_jobs=1)]: Done 108 out of 108 | elapsed:   52.2s finished\n",
      "\n",
      "[2021-10-08 02:07:09] Features: 10/10 -- score: 1.0"
     ]
    },
    {
     "data": {
      "text/plain": [
       "{1: {'feature_idx': (52,),\n",
       "  'cv_scores': array([0.88675529]),\n",
       "  'avg_score': 0.8867552929591335,\n",
       "  'feature_names': ('odor_n',)},\n",
       " 2: {'feature_idx': (52, 99),\n",
       "  'cv_scores': array([0.94633186]),\n",
       "  'avg_score': 0.9463318562284588,\n",
       "  'feature_names': ('odor_n', 'stalk-root_c')},\n",
       " 3: {'feature_idx': (52, 99, 111),\n",
       "  'cv_scores': array([0.97636632]),\n",
       "  'avg_score': 0.9763663220088626,\n",
       "  'feature_names': ('odor_n', 'stalk-root_c', 'stalk-surface-below-ring_y')},\n",
       " 4: {'feature_idx': (52, 75, 99, 111),\n",
       "  'cv_scores': array([0.98522895]),\n",
       "  'avg_score': 0.9852289512555391,\n",
       "  'feature_names': ('odor_n',\n",
       "   'spore-print-color_r',\n",
       "   'stalk-root_c',\n",
       "   'stalk-surface-below-ring_y')},\n",
       " 5: {'feature_idx': (47, 52, 75, 99, 111),\n",
       "  'cv_scores': array([0.99113737]),\n",
       "  'avg_score': 0.9911373707533235,\n",
       "  'feature_names': ('odor_a',\n",
       "   'odor_n',\n",
       "   'spore-print-color_r',\n",
       "   'stalk-root_c',\n",
       "   'stalk-surface-below-ring_y')},\n",
       " 6: {'feature_idx': (47, 50, 52, 75, 99, 111),\n",
       "  'cv_scores': array([0.99704579]),\n",
       "  'avg_score': 0.9970457902511078,\n",
       "  'feature_names': ('odor_a',\n",
       "   'odor_l',\n",
       "   'odor_n',\n",
       "   'spore-print-color_r',\n",
       "   'stalk-root_c',\n",
       "   'stalk-surface-below-ring_y')},\n",
       " 7: {'feature_idx': (36, 47, 50, 52, 75, 99, 111),\n",
       "  'cv_scores': array([0.99901526]),\n",
       "  'avg_score': 0.999015263417036,\n",
       "  'feature_names': ('gill-size_b',\n",
       "   'odor_a',\n",
       "   'odor_l',\n",
       "   'odor_n',\n",
       "   'spore-print-color_r',\n",
       "   'stalk-root_c',\n",
       "   'stalk-surface-below-ring_y')},\n",
       " 8: {'feature_idx': (0, 36, 47, 50, 52, 75, 99, 111),\n",
       "  'cv_scores': array([1.]),\n",
       "  'avg_score': 1.0,\n",
       "  'feature_names': ('bruises?_f',\n",
       "   'gill-size_b',\n",
       "   'odor_a',\n",
       "   'odor_l',\n",
       "   'odor_n',\n",
       "   'spore-print-color_r',\n",
       "   'stalk-root_c',\n",
       "   'stalk-surface-below-ring_y')},\n",
       " 9: {'feature_idx': (0, 1, 36, 47, 50, 52, 75, 99, 111),\n",
       "  'cv_scores': array([1.]),\n",
       "  'avg_score': 1.0,\n",
       "  'feature_names': ('bruises?_f',\n",
       "   'bruises?_t',\n",
       "   'gill-size_b',\n",
       "   'odor_a',\n",
       "   'odor_l',\n",
       "   'odor_n',\n",
       "   'spore-print-color_r',\n",
       "   'stalk-root_c',\n",
       "   'stalk-surface-below-ring_y')},\n",
       " 10: {'feature_idx': (0, 1, 2, 36, 47, 50, 52, 75, 99, 111),\n",
       "  'cv_scores': array([1.]),\n",
       "  'avg_score': 1.0,\n",
       "  'feature_names': ('bruises?_f',\n",
       "   'bruises?_t',\n",
       "   'cap-color_b',\n",
       "   'gill-size_b',\n",
       "   'odor_a',\n",
       "   'odor_l',\n",
       "   'odor_n',\n",
       "   'spore-print-color_r',\n",
       "   'stalk-root_c',\n",
       "   'stalk-surface-below-ring_y')}}"
      ]
     },
     "execution_count": 4,
     "metadata": {},
     "output_type": "execute_result"
    }
   ],
   "source": [
    "import pandas as pd\n",
    "import numpy as np\n",
    "from sklearn.neighbors import KNeighborsClassifier\n",
    "from mlxtend.feature_selection import SequentialFeatureSelector as SFS\n",
    "\n",
    "df = pd.read_csv(\"data/agaricus-lepiota.data\")\n",
    "\n",
    "dummy_df = pd.get_dummies(df)\n",
    "\n",
    "X = dummy_df[dummy_df.columns.difference(['edibility_e', 'edibility_p'])]\n",
    "y = dummy_df['edibility_e']\n",
    "\n",
    "knn = KNeighborsClassifier(n_neighbors=4)\n",
    "\n",
    "sfs = SFS(knn, k_features=10, forward=True, floating=False,  verbose=2,scoring='accuracy', cv=0)\n",
    "\n",
    "sfs = sfs.fit(X, y)\n",
    "\n",
    "sfs.subsets_\n"
   ]
  },
  {
   "cell_type": "markdown",
   "metadata": {},
   "source": [
    "# 4 most descriptive features selected: \n",
    "- No bruises\n",
    "- Bruises\n",
    "- Buff cap color\n",
    "- Broad gill size\n",
    "- Almond odor\n",
    "- Anise odor\n",
    "- Neutral odor \n",
    "- Green spore-print-color\n",
    "- Club stalk root\n",
    "- Scaly stalk-surface-below-ring "
   ]
  },
  {
   "cell_type": "code",
   "execution_count": 5,
   "metadata": {},
   "outputs": [
    {
     "name": "stdout",
     "output_type": "stream",
     "text": [
      "\n",
      "Top features for each of the 4 principal components: \n",
      " ring-type_p, spore-print-color_h, habitat_d, stalk-shape_e, odor_n, cap-shape_f, cap-surface_y, cap-color_n, cap-surface_s, spore-print-color_k, \n"
     ]
    }
   ],
   "source": [
    "from sklearn.decomposition import PCA\n",
    "\n",
    "pca = PCA(n_components=10).fit(X)\n",
    "X_new = pca.transform(X)\n",
    "\n",
    "n_pcs = pca.components_.shape[0]\n",
    "\n",
    "most_important = [np.abs(pca.components_[i]).argmax() for i in range(n_pcs)]\n",
    "\n",
    "pca_result_names = [] #used in task 3\n",
    "resultstring = \"\"\n",
    "for i in most_important :\n",
    "    pca_result_names.append(X.columns[i])\n",
    "    resultstring += X.columns[i] + \", \"\n",
    "\n",
    "print(\"\\nTop features for each of the 4 principal components: \\n\", resultstring)\n"
   ]
  },
  {
   "cell_type": "markdown",
   "metadata": {},
   "source": [
    "# 4 most influential features selected:\n",
    "- Pendant ring type\n",
    "- Chocolate spore print color\n",
    "- Woods habitat\n",
    "- Tapering stalk shape\n",
    "- Neutral odor\n",
    "- Flat cap shape\n",
    "- Scaly cap surface\n",
    "- Brown cap color\n",
    "- Smooth cap surface\n",
    "- Black spore print color"
   ]
  },
  {
   "cell_type": "markdown",
   "metadata": {},
   "source": [
    "In common:\n",
    "- Neutral odor"
   ]
  }
 ],
 "metadata": {
  "interpreter": {
   "hash": "4d1658ec84c519f471af1cfe492a6fefc25fff55f52095839686e362fa0f6a4f"
  },
  "kernelspec": {
   "display_name": "Python 3.9.7 64-bit",
   "name": "python3"
  },
  "language_info": {
   "codemirror_mode": {
    "name": "ipython",
    "version": 3
   },
   "file_extension": ".py",
   "mimetype": "text/x-python",
   "name": "python",
   "nbconvert_exporter": "python",
   "pygments_lexer": "ipython3",
   "version": "3.9.7"
  },
  "orig_nbformat": 4
 },
 "nbformat": 4,
 "nbformat_minor": 2
}
